{
 "cells": [
  {
   "cell_type": "markdown",
   "id": "e59f904c",
   "metadata": {},
   "source": [
    "# BUSINESS CASE:- BASED ON THE GIVEN FEATURE OF DATASET WE NEED TO PREDICT THE PERFOMANCE RATING OF EMPLOYEE .`"
   ]
  },
  {
   "cell_type": "markdown",
   "id": "8b9e1215",
   "metadata": {},
   "source": [
    "### MODEL CREATION & EVALUATION SUMMARY:\n",
    "- Loading pre-process data\n",
    "- Define dependant & independant features\n",
    "- Balancing the target feature\n",
    "- Split training and testing data\n",
    "- Model creation, prediction & evaluation\n",
    "- Model saving"
   ]
  },
  {
   "cell_type": "markdown",
   "id": "bab54cca",
   "metadata": {},
   "source": [
    "## IMPORT BASIC LIBRARIES"
   ]
  },
  {
   "cell_type": "code",
   "execution_count": 1,
   "id": "4bb8e1ab",
   "metadata": {},
   "outputs": [],
   "source": [
    "import pandas as pd\n",
    "import numpy as np\n",
    "import seaborn as sns\n",
    "import matplotlib.pyplot as plt\n",
    "%matplotlib inline\n",
    "import mysql.connector\n",
    "import warnings\n",
    "warnings.filterwarnings(\"ignore\")"
   ]
  },
  {
   "cell_type": "markdown",
   "id": "439a41de",
   "metadata": {},
   "source": [
    "### LOADING PREPROCESS DATA"
   ]
  },
  {
   "cell_type": "code",
   "execution_count": 2,
   "id": "0561f583",
   "metadata": {},
   "outputs": [
    {
     "data": {
      "text/html": [
       "<div>\n",
       "<style scoped>\n",
       "    .dataframe tbody tr th:only-of-type {\n",
       "        vertical-align: middle;\n",
       "    }\n",
       "\n",
       "    .dataframe tbody tr th {\n",
       "        vertical-align: top;\n",
       "    }\n",
       "\n",
       "    .dataframe thead th {\n",
       "        text-align: right;\n",
       "    }\n",
       "</style>\n",
       "<table border=\"1\" class=\"dataframe\">\n",
       "  <thead>\n",
       "    <tr style=\"text-align: right;\">\n",
       "      <th></th>\n",
       "      <th>pca1</th>\n",
       "      <th>pca2</th>\n",
       "      <th>pca3</th>\n",
       "      <th>pca4</th>\n",
       "      <th>pca5</th>\n",
       "      <th>pca6</th>\n",
       "      <th>pca7</th>\n",
       "      <th>pca8</th>\n",
       "      <th>pca9</th>\n",
       "      <th>pca10</th>\n",
       "      <th>pca11</th>\n",
       "      <th>pca12</th>\n",
       "      <th>pca13</th>\n",
       "      <th>pca14</th>\n",
       "      <th>pca15</th>\n",
       "      <th>pca16</th>\n",
       "      <th>pca17</th>\n",
       "      <th>pca18</th>\n",
       "      <th>pca19</th>\n",
       "      <th>pca20</th>\n",
       "      <th>pca21</th>\n",
       "      <th>pca22</th>\n",
       "      <th>pca23</th>\n",
       "      <th>pca24</th>\n",
       "      <th>pca25</th>\n",
       "      <th>PerformanceRating</th>\n",
       "    </tr>\n",
       "  </thead>\n",
       "  <tbody>\n",
       "    <tr>\n",
       "      <th>0</th>\n",
       "      <td>-4.479794</td>\n",
       "      <td>-1.625800</td>\n",
       "      <td>1.048152</td>\n",
       "      <td>0.935689</td>\n",
       "      <td>-0.917397</td>\n",
       "      <td>1.027783</td>\n",
       "      <td>-0.831539</td>\n",
       "      <td>-1.471238</td>\n",
       "      <td>0.515184</td>\n",
       "      <td>0.449498</td>\n",
       "      <td>-1.242865</td>\n",
       "      <td>-0.169772</td>\n",
       "      <td>-0.859328</td>\n",
       "      <td>-0.263105</td>\n",
       "      <td>1.361126</td>\n",
       "      <td>-0.655418</td>\n",
       "      <td>0.888525</td>\n",
       "      <td>0.099724</td>\n",
       "      <td>-0.470607</td>\n",
       "      <td>0.012552</td>\n",
       "      <td>0.192366</td>\n",
       "      <td>0.199055</td>\n",
       "      <td>-0.502891</td>\n",
       "      <td>0.228337</td>\n",
       "      <td>-0.352744</td>\n",
       "      <td>3</td>\n",
       "    </tr>\n",
       "    <tr>\n",
       "      <th>1</th>\n",
       "      <td>-4.356074</td>\n",
       "      <td>-0.068289</td>\n",
       "      <td>2.016174</td>\n",
       "      <td>1.516783</td>\n",
       "      <td>0.418864</td>\n",
       "      <td>-0.582535</td>\n",
       "      <td>-1.714894</td>\n",
       "      <td>0.026681</td>\n",
       "      <td>0.985278</td>\n",
       "      <td>0.830725</td>\n",
       "      <td>-1.723557</td>\n",
       "      <td>1.171481</td>\n",
       "      <td>0.265575</td>\n",
       "      <td>0.276425</td>\n",
       "      <td>0.133615</td>\n",
       "      <td>-0.157664</td>\n",
       "      <td>0.505885</td>\n",
       "      <td>-0.359134</td>\n",
       "      <td>0.420803</td>\n",
       "      <td>-0.929058</td>\n",
       "      <td>-0.495041</td>\n",
       "      <td>0.306019</td>\n",
       "      <td>-0.888367</td>\n",
       "      <td>-0.237236</td>\n",
       "      <td>-0.710042</td>\n",
       "      <td>3</td>\n",
       "    </tr>\n",
       "    <tr>\n",
       "      <th>2</th>\n",
       "      <td>-4.243181</td>\n",
       "      <td>2.560962</td>\n",
       "      <td>4.363072</td>\n",
       "      <td>-0.182532</td>\n",
       "      <td>-1.773880</td>\n",
       "      <td>-0.362873</td>\n",
       "      <td>-0.431528</td>\n",
       "      <td>1.308032</td>\n",
       "      <td>0.449781</td>\n",
       "      <td>1.957530</td>\n",
       "      <td>0.189355</td>\n",
       "      <td>2.290069</td>\n",
       "      <td>-1.197808</td>\n",
       "      <td>0.131160</td>\n",
       "      <td>0.786889</td>\n",
       "      <td>-1.267936</td>\n",
       "      <td>-0.624628</td>\n",
       "      <td>0.504683</td>\n",
       "      <td>0.559195</td>\n",
       "      <td>0.081618</td>\n",
       "      <td>-0.256092</td>\n",
       "      <td>-0.242872</td>\n",
       "      <td>-0.434724</td>\n",
       "      <td>-0.356724</td>\n",
       "      <td>0.646996</td>\n",
       "      <td>4</td>\n",
       "    </tr>\n",
       "    <tr>\n",
       "      <th>3</th>\n",
       "      <td>3.013748</td>\n",
       "      <td>0.725983</td>\n",
       "      <td>2.326672</td>\n",
       "      <td>3.288183</td>\n",
       "      <td>2.309574</td>\n",
       "      <td>1.909985</td>\n",
       "      <td>1.083119</td>\n",
       "      <td>-0.226786</td>\n",
       "      <td>-0.112988</td>\n",
       "      <td>-0.191132</td>\n",
       "      <td>-0.139197</td>\n",
       "      <td>-1.408616</td>\n",
       "      <td>-0.384020</td>\n",
       "      <td>1.151003</td>\n",
       "      <td>0.504962</td>\n",
       "      <td>1.558104</td>\n",
       "      <td>-0.273501</td>\n",
       "      <td>0.891281</td>\n",
       "      <td>-1.533583</td>\n",
       "      <td>0.700066</td>\n",
       "      <td>0.113402</td>\n",
       "      <td>-0.186438</td>\n",
       "      <td>-0.566017</td>\n",
       "      <td>-0.066069</td>\n",
       "      <td>-0.500048</td>\n",
       "      <td>3</td>\n",
       "    </tr>\n",
       "    <tr>\n",
       "      <th>4</th>\n",
       "      <td>-4.246565</td>\n",
       "      <td>5.966600</td>\n",
       "      <td>-0.246302</td>\n",
       "      <td>0.789979</td>\n",
       "      <td>2.096761</td>\n",
       "      <td>-1.712339</td>\n",
       "      <td>0.769025</td>\n",
       "      <td>-0.516950</td>\n",
       "      <td>0.788577</td>\n",
       "      <td>1.125638</td>\n",
       "      <td>-1.642460</td>\n",
       "      <td>0.142828</td>\n",
       "      <td>-0.727865</td>\n",
       "      <td>-0.051626</td>\n",
       "      <td>-1.509516</td>\n",
       "      <td>0.652274</td>\n",
       "      <td>0.614179</td>\n",
       "      <td>-0.295793</td>\n",
       "      <td>0.970469</td>\n",
       "      <td>-1.179984</td>\n",
       "      <td>0.793859</td>\n",
       "      <td>-0.107046</td>\n",
       "      <td>-0.218167</td>\n",
       "      <td>0.456973</td>\n",
       "      <td>-0.147894</td>\n",
       "      <td>3</td>\n",
       "    </tr>\n",
       "  </tbody>\n",
       "</table>\n",
       "</div>"
      ],
      "text/plain": [
       "       pca1      pca2      pca3      pca4      pca5      pca6      pca7  \\\n",
       "0 -4.479794 -1.625800  1.048152  0.935689 -0.917397  1.027783 -0.831539   \n",
       "1 -4.356074 -0.068289  2.016174  1.516783  0.418864 -0.582535 -1.714894   \n",
       "2 -4.243181  2.560962  4.363072 -0.182532 -1.773880 -0.362873 -0.431528   \n",
       "3  3.013748  0.725983  2.326672  3.288183  2.309574  1.909985  1.083119   \n",
       "4 -4.246565  5.966600 -0.246302  0.789979  2.096761 -1.712339  0.769025   \n",
       "\n",
       "       pca8      pca9     pca10     pca11     pca12     pca13     pca14  \\\n",
       "0 -1.471238  0.515184  0.449498 -1.242865 -0.169772 -0.859328 -0.263105   \n",
       "1  0.026681  0.985278  0.830725 -1.723557  1.171481  0.265575  0.276425   \n",
       "2  1.308032  0.449781  1.957530  0.189355  2.290069 -1.197808  0.131160   \n",
       "3 -0.226786 -0.112988 -0.191132 -0.139197 -1.408616 -0.384020  1.151003   \n",
       "4 -0.516950  0.788577  1.125638 -1.642460  0.142828 -0.727865 -0.051626   \n",
       "\n",
       "      pca15     pca16     pca17     pca18     pca19     pca20     pca21  \\\n",
       "0  1.361126 -0.655418  0.888525  0.099724 -0.470607  0.012552  0.192366   \n",
       "1  0.133615 -0.157664  0.505885 -0.359134  0.420803 -0.929058 -0.495041   \n",
       "2  0.786889 -1.267936 -0.624628  0.504683  0.559195  0.081618 -0.256092   \n",
       "3  0.504962  1.558104 -0.273501  0.891281 -1.533583  0.700066  0.113402   \n",
       "4 -1.509516  0.652274  0.614179 -0.295793  0.970469 -1.179984  0.793859   \n",
       "\n",
       "      pca22     pca23     pca24     pca25  PerformanceRating  \n",
       "0  0.199055 -0.502891  0.228337 -0.352744                  3  \n",
       "1  0.306019 -0.888367 -0.237236 -0.710042                  3  \n",
       "2 -0.242872 -0.434724 -0.356724  0.646996                  4  \n",
       "3 -0.186438 -0.566017 -0.066069 -0.500048                  3  \n",
       "4 -0.107046 -0.218167  0.456973 -0.147894                  3  "
      ]
     },
     "execution_count": 2,
     "metadata": {},
     "output_type": "execute_result"
    }
   ],
   "source": [
    "data = pd.read_csv('employee_performance_analysis_preprocessed_data.csv')\n",
    "pd.set_option('display.max_columns',None) # Used to display the all features\n",
    "data.drop('Unnamed: 0',axis=1,inplace=True) # Drop unwanted feature\n",
    "data.head()"
   ]
  },
  {
   "cell_type": "markdown",
   "id": "b93bfead",
   "metadata": {},
   "source": [
    "### DEFINE INDEPENDANT & DEPENDANT FEATURES"
   ]
  },
  {
   "cell_type": "code",
   "execution_count": 3,
   "id": "681b601b",
   "metadata": {},
   "outputs": [],
   "source": [
    "X = data.iloc[:,:-1]\n",
    "y = data.PerformanceRating"
   ]
  },
  {
   "cell_type": "code",
   "execution_count": 4,
   "id": "d647b853",
   "metadata": {},
   "outputs": [
    {
     "data": {
      "text/html": [
       "<div>\n",
       "<style scoped>\n",
       "    .dataframe tbody tr th:only-of-type {\n",
       "        vertical-align: middle;\n",
       "    }\n",
       "\n",
       "    .dataframe tbody tr th {\n",
       "        vertical-align: top;\n",
       "    }\n",
       "\n",
       "    .dataframe thead th {\n",
       "        text-align: right;\n",
       "    }\n",
       "</style>\n",
       "<table border=\"1\" class=\"dataframe\">\n",
       "  <thead>\n",
       "    <tr style=\"text-align: right;\">\n",
       "      <th></th>\n",
       "      <th>pca1</th>\n",
       "      <th>pca2</th>\n",
       "      <th>pca3</th>\n",
       "      <th>pca4</th>\n",
       "      <th>pca5</th>\n",
       "      <th>pca6</th>\n",
       "      <th>pca7</th>\n",
       "      <th>pca8</th>\n",
       "      <th>pca9</th>\n",
       "      <th>pca10</th>\n",
       "      <th>pca11</th>\n",
       "      <th>pca12</th>\n",
       "      <th>pca13</th>\n",
       "      <th>pca14</th>\n",
       "      <th>pca15</th>\n",
       "      <th>pca16</th>\n",
       "      <th>pca17</th>\n",
       "      <th>pca18</th>\n",
       "      <th>pca19</th>\n",
       "      <th>pca20</th>\n",
       "      <th>pca21</th>\n",
       "      <th>pca22</th>\n",
       "      <th>pca23</th>\n",
       "      <th>pca24</th>\n",
       "      <th>pca25</th>\n",
       "    </tr>\n",
       "  </thead>\n",
       "  <tbody>\n",
       "    <tr>\n",
       "      <th>0</th>\n",
       "      <td>-4.479794</td>\n",
       "      <td>-1.625800</td>\n",
       "      <td>1.048152</td>\n",
       "      <td>0.935689</td>\n",
       "      <td>-0.917397</td>\n",
       "      <td>1.027783</td>\n",
       "      <td>-0.831539</td>\n",
       "      <td>-1.471238</td>\n",
       "      <td>0.515184</td>\n",
       "      <td>0.449498</td>\n",
       "      <td>-1.242865</td>\n",
       "      <td>-0.169772</td>\n",
       "      <td>-0.859328</td>\n",
       "      <td>-0.263105</td>\n",
       "      <td>1.361126</td>\n",
       "      <td>-0.655418</td>\n",
       "      <td>0.888525</td>\n",
       "      <td>0.099724</td>\n",
       "      <td>-0.470607</td>\n",
       "      <td>0.012552</td>\n",
       "      <td>0.192366</td>\n",
       "      <td>0.199055</td>\n",
       "      <td>-0.502891</td>\n",
       "      <td>0.228337</td>\n",
       "      <td>-0.352744</td>\n",
       "    </tr>\n",
       "    <tr>\n",
       "      <th>1</th>\n",
       "      <td>-4.356074</td>\n",
       "      <td>-0.068289</td>\n",
       "      <td>2.016174</td>\n",
       "      <td>1.516783</td>\n",
       "      <td>0.418864</td>\n",
       "      <td>-0.582535</td>\n",
       "      <td>-1.714894</td>\n",
       "      <td>0.026681</td>\n",
       "      <td>0.985278</td>\n",
       "      <td>0.830725</td>\n",
       "      <td>-1.723557</td>\n",
       "      <td>1.171481</td>\n",
       "      <td>0.265575</td>\n",
       "      <td>0.276425</td>\n",
       "      <td>0.133615</td>\n",
       "      <td>-0.157664</td>\n",
       "      <td>0.505885</td>\n",
       "      <td>-0.359134</td>\n",
       "      <td>0.420803</td>\n",
       "      <td>-0.929058</td>\n",
       "      <td>-0.495041</td>\n",
       "      <td>0.306019</td>\n",
       "      <td>-0.888367</td>\n",
       "      <td>-0.237236</td>\n",
       "      <td>-0.710042</td>\n",
       "    </tr>\n",
       "    <tr>\n",
       "      <th>2</th>\n",
       "      <td>-4.243181</td>\n",
       "      <td>2.560962</td>\n",
       "      <td>4.363072</td>\n",
       "      <td>-0.182532</td>\n",
       "      <td>-1.773880</td>\n",
       "      <td>-0.362873</td>\n",
       "      <td>-0.431528</td>\n",
       "      <td>1.308032</td>\n",
       "      <td>0.449781</td>\n",
       "      <td>1.957530</td>\n",
       "      <td>0.189355</td>\n",
       "      <td>2.290069</td>\n",
       "      <td>-1.197808</td>\n",
       "      <td>0.131160</td>\n",
       "      <td>0.786889</td>\n",
       "      <td>-1.267936</td>\n",
       "      <td>-0.624628</td>\n",
       "      <td>0.504683</td>\n",
       "      <td>0.559195</td>\n",
       "      <td>0.081618</td>\n",
       "      <td>-0.256092</td>\n",
       "      <td>-0.242872</td>\n",
       "      <td>-0.434724</td>\n",
       "      <td>-0.356724</td>\n",
       "      <td>0.646996</td>\n",
       "    </tr>\n",
       "    <tr>\n",
       "      <th>3</th>\n",
       "      <td>3.013748</td>\n",
       "      <td>0.725983</td>\n",
       "      <td>2.326672</td>\n",
       "      <td>3.288183</td>\n",
       "      <td>2.309574</td>\n",
       "      <td>1.909985</td>\n",
       "      <td>1.083119</td>\n",
       "      <td>-0.226786</td>\n",
       "      <td>-0.112988</td>\n",
       "      <td>-0.191132</td>\n",
       "      <td>-0.139197</td>\n",
       "      <td>-1.408616</td>\n",
       "      <td>-0.384020</td>\n",
       "      <td>1.151003</td>\n",
       "      <td>0.504962</td>\n",
       "      <td>1.558104</td>\n",
       "      <td>-0.273501</td>\n",
       "      <td>0.891281</td>\n",
       "      <td>-1.533583</td>\n",
       "      <td>0.700066</td>\n",
       "      <td>0.113402</td>\n",
       "      <td>-0.186438</td>\n",
       "      <td>-0.566017</td>\n",
       "      <td>-0.066069</td>\n",
       "      <td>-0.500048</td>\n",
       "    </tr>\n",
       "    <tr>\n",
       "      <th>4</th>\n",
       "      <td>-4.246565</td>\n",
       "      <td>5.966600</td>\n",
       "      <td>-0.246302</td>\n",
       "      <td>0.789979</td>\n",
       "      <td>2.096761</td>\n",
       "      <td>-1.712339</td>\n",
       "      <td>0.769025</td>\n",
       "      <td>-0.516950</td>\n",
       "      <td>0.788577</td>\n",
       "      <td>1.125638</td>\n",
       "      <td>-1.642460</td>\n",
       "      <td>0.142828</td>\n",
       "      <td>-0.727865</td>\n",
       "      <td>-0.051626</td>\n",
       "      <td>-1.509516</td>\n",
       "      <td>0.652274</td>\n",
       "      <td>0.614179</td>\n",
       "      <td>-0.295793</td>\n",
       "      <td>0.970469</td>\n",
       "      <td>-1.179984</td>\n",
       "      <td>0.793859</td>\n",
       "      <td>-0.107046</td>\n",
       "      <td>-0.218167</td>\n",
       "      <td>0.456973</td>\n",
       "      <td>-0.147894</td>\n",
       "    </tr>\n",
       "  </tbody>\n",
       "</table>\n",
       "</div>"
      ],
      "text/plain": [
       "       pca1      pca2      pca3      pca4      pca5      pca6      pca7  \\\n",
       "0 -4.479794 -1.625800  1.048152  0.935689 -0.917397  1.027783 -0.831539   \n",
       "1 -4.356074 -0.068289  2.016174  1.516783  0.418864 -0.582535 -1.714894   \n",
       "2 -4.243181  2.560962  4.363072 -0.182532 -1.773880 -0.362873 -0.431528   \n",
       "3  3.013748  0.725983  2.326672  3.288183  2.309574  1.909985  1.083119   \n",
       "4 -4.246565  5.966600 -0.246302  0.789979  2.096761 -1.712339  0.769025   \n",
       "\n",
       "       pca8      pca9     pca10     pca11     pca12     pca13     pca14  \\\n",
       "0 -1.471238  0.515184  0.449498 -1.242865 -0.169772 -0.859328 -0.263105   \n",
       "1  0.026681  0.985278  0.830725 -1.723557  1.171481  0.265575  0.276425   \n",
       "2  1.308032  0.449781  1.957530  0.189355  2.290069 -1.197808  0.131160   \n",
       "3 -0.226786 -0.112988 -0.191132 -0.139197 -1.408616 -0.384020  1.151003   \n",
       "4 -0.516950  0.788577  1.125638 -1.642460  0.142828 -0.727865 -0.051626   \n",
       "\n",
       "      pca15     pca16     pca17     pca18     pca19     pca20     pca21  \\\n",
       "0  1.361126 -0.655418  0.888525  0.099724 -0.470607  0.012552  0.192366   \n",
       "1  0.133615 -0.157664  0.505885 -0.359134  0.420803 -0.929058 -0.495041   \n",
       "2  0.786889 -1.267936 -0.624628  0.504683  0.559195  0.081618 -0.256092   \n",
       "3  0.504962  1.558104 -0.273501  0.891281 -1.533583  0.700066  0.113402   \n",
       "4 -1.509516  0.652274  0.614179 -0.295793  0.970469 -1.179984  0.793859   \n",
       "\n",
       "      pca22     pca23     pca24     pca25  \n",
       "0  0.199055 -0.502891  0.228337 -0.352744  \n",
       "1  0.306019 -0.888367 -0.237236 -0.710042  \n",
       "2 -0.242872 -0.434724 -0.356724  0.646996  \n",
       "3 -0.186438 -0.566017 -0.066069 -0.500048  \n",
       "4 -0.107046 -0.218167  0.456973 -0.147894  "
      ]
     },
     "execution_count": 4,
     "metadata": {},
     "output_type": "execute_result"
    }
   ],
   "source": [
    "X.head()"
   ]
  },
  {
   "cell_type": "code",
   "execution_count": 5,
   "id": "5d60f71d",
   "metadata": {},
   "outputs": [
    {
     "data": {
      "text/plain": [
       "0    3\n",
       "1    3\n",
       "2    4\n",
       "3    3\n",
       "4    3\n",
       "Name: PerformanceRating, dtype: int64"
      ]
     },
     "execution_count": 5,
     "metadata": {},
     "output_type": "execute_result"
    }
   ],
   "source": [
    "y.head()"
   ]
  },
  {
   "cell_type": "markdown",
   "id": "99fd1d3c",
   "metadata": {},
   "source": [
    "**This will transform your original class labels into consecutive integers starting from 0.**"
   ]
  },
  {
   "cell_type": "code",
   "execution_count": 6,
   "id": "26af6bb0",
   "metadata": {},
   "outputs": [],
   "source": [
    "from sklearn.preprocessing import LabelEncoder\n",
    "\n",
    "label_encoder = LabelEncoder()\n",
    "y = label_encoder.fit_transform(y)\n"
   ]
  },
  {
   "cell_type": "code",
   "execution_count": 7,
   "id": "e8eab8f4",
   "metadata": {},
   "outputs": [
    {
     "data": {
      "text/plain": [
       "array([1, 1, 2, ..., 1, 1, 0], dtype=int64)"
      ]
     },
     "execution_count": 7,
     "metadata": {},
     "output_type": "execute_result"
    }
   ],
   "source": [
    "y"
   ]
  },
  {
   "cell_type": "markdown",
   "id": "e04ed102",
   "metadata": {},
   "source": [
    "### BALANCING THE TARGET FEATURE"
   ]
  },
  {
   "cell_type": "markdown",
   "id": "e34c098e",
   "metadata": {},
   "source": [
    "**SMOTE:** SMOTE (synthetic minority oversampling technique) is one of the most commonly used oversampling methods to solve the imbalance problem. It aims to balance class distribution by randomly increasing minority class examples by replicating them. SMOTE synthesises new minority instances between existing minority instances."
   ]
  },
  {
   "cell_type": "code",
   "execution_count": 8,
   "id": "ec4b7ede",
   "metadata": {},
   "outputs": [
    {
     "name": "stdout",
     "output_type": "stream",
     "text": [
      "unbalanced data   :   Counter({1: 874, 0: 194, 2: 132})\n",
      "balanced data:    : Counter({1: 874, 2: 874, 0: 874})\n"
     ]
    }
   ],
   "source": [
    "from collections import Counter\n",
    "from imblearn.over_sampling import SMOTE #SMOTE(synthetic minority oversampling techinque)\n",
    "sm = SMOTE() # obeject creation\n",
    "print(\"unbalanced data   :  \",Counter(y))\n",
    "X_sm,y_sm = sm.fit_resample(X,y)\n",
    "print(\"balanced data:    :\",Counter(y_sm))"
   ]
  },
  {
   "cell_type": "markdown",
   "id": "8053b459",
   "metadata": {},
   "source": [
    "- Now target feature in balance"
   ]
  },
  {
   "cell_type": "markdown",
   "id": "76251692",
   "metadata": {},
   "source": [
    "### SPLIT TRAINING AND TESTING DATA"
   ]
  },
  {
   "cell_type": "code",
   "execution_count": 9,
   "id": "d008b4b4",
   "metadata": {},
   "outputs": [],
   "source": [
    "from sklearn.model_selection import train_test_split\n",
    "X_train,X_test,y_train,y_test=train_test_split(X_sm,y_sm,random_state=42,test_size=0.20) # 20% data given to testing"
   ]
  },
  {
   "cell_type": "code",
   "execution_count": 10,
   "id": "4d2ca271",
   "metadata": {},
   "outputs": [
    {
     "data": {
      "text/plain": [
       "((2097, 25), (525, 25), (2097,), (525,))"
      ]
     },
     "execution_count": 10,
     "metadata": {},
     "output_type": "execute_result"
    }
   ],
   "source": [
    "# Check shape of train and test\n",
    "X_train.shape, X_test.shape, y_train.shape, y_test.shape"
   ]
  },
  {
   "cell_type": "markdown",
   "id": "d0470fb8",
   "metadata": {},
   "source": [
    "### MODEL CREATION, PREDICTION AND EVALUATION"
   ]
  },
  {
   "cell_type": "markdown",
   "id": "12f7e1b4",
   "metadata": {},
   "source": [
    "#### HERE WE WILL BE EXPERIMENTING WITH THREE ALGORITHM\n",
    "1. Support Vector Machine\n",
    "2. Artificial Neural Network [MLP Classifier]\n",
    "3. XG Boosting \n",
    "4. Random forest\n",
    "5. KNN "
   ]
  },
  {
   "cell_type": "markdown",
   "id": "244e5aef",
   "metadata": {},
   "source": [
    "### 1.SUPPORT VECTOR MACHINE"
   ]
  },
  {
   "cell_type": "code",
   "execution_count": 11,
   "id": "58208bbe",
   "metadata": {},
   "outputs": [],
   "source": [
    "# importing library\n",
    "from sklearn.svm import SVC\n",
    "\n",
    "# Object Creaation\n",
    "svc = SVC()\n",
    "\n",
    "# Fitting training and testing data\n",
    "svc.fit(X_train,y_train)\n",
    "\n",
    "# Prediction on train data\n",
    "svc_train_predict = svc.predict(X_train)\n",
    "\n",
    "# Prediction on test data\n",
    "svc_test_predict = svc.predict(X_test)"
   ]
  },
  {
   "cell_type": "markdown",
   "id": "30a5f9dc",
   "metadata": {},
   "source": [
    "### TRAINING ACCURACY"
   ]
  },
  {
   "cell_type": "code",
   "execution_count": 12,
   "id": "408ec298",
   "metadata": {},
   "outputs": [
    {
     "name": "stdout",
     "output_type": "stream",
     "text": [
      "Training accuracy of support vector classifier model 96.6142107773009\n",
      "support vector classifier Classification report: \n",
      "               precision    recall  f1-score   support\n",
      "\n",
      "           0       0.99      0.94      0.97       727\n",
      "           1       0.91      0.99      0.95       648\n",
      "           2       0.99      0.97      0.98       722\n",
      "\n",
      "    accuracy                           0.97      2097\n",
      "   macro avg       0.97      0.97      0.97      2097\n",
      "weighted avg       0.97      0.97      0.97      2097\n",
      "\n"
     ]
    }
   ],
   "source": [
    "# import metrics\n",
    "from sklearn.metrics import accuracy_score,f1_score,recall_score,precision_score,classification_report,confusion_matrix\n",
    "svc_train_accuracy = accuracy_score(svc_train_predict,y_train)\n",
    "print(\"Training accuracy of support vector classifier model\",svc_train_accuracy*100)\n",
    "print(\"support vector classifier Classification report: \\n\",classification_report(svc_train_predict,y_train))"
   ]
  },
  {
   "cell_type": "markdown",
   "id": "e5ff4ba0",
   "metadata": {},
   "source": [
    "### TESTING ACCURACY"
   ]
  },
  {
   "cell_type": "code",
   "execution_count": 13,
   "id": "35e9fa88",
   "metadata": {},
   "outputs": [
    {
     "name": "stdout",
     "output_type": "stream",
     "text": [
      "Testing accuracy of support vector classifier model 94.66666666666667\n",
      "support vector classifier Classification report: \n",
      "               precision    recall  f1-score   support\n",
      "\n",
      "           0       0.98      0.94      0.96       192\n",
      "           1       0.88      0.96      0.92       159\n",
      "           2       0.98      0.95      0.96       174\n",
      "\n",
      "    accuracy                           0.95       525\n",
      "   macro avg       0.95      0.95      0.95       525\n",
      "weighted avg       0.95      0.95      0.95       525\n",
      "\n"
     ]
    }
   ],
   "source": [
    "svc_test_accuracy = accuracy_score(svc_test_predict,y_test)\n",
    "print(\"Testing accuracy of support vector classifier model\",svc_test_accuracy*100)\n",
    "print(\"support vector classifier Classification report: \\n\",classification_report(svc_test_predict,y_test))"
   ]
  },
  {
   "cell_type": "markdown",
   "id": "3e93f4a1",
   "metadata": {},
   "source": [
    "### 2. ARTIFICIAL NEURAL NETWORK [MLP CLASSIFIER]"
   ]
  },
  {
   "cell_type": "code",
   "execution_count": 14,
   "id": "cde05614",
   "metadata": {},
   "outputs": [],
   "source": [
    "from sklearn.neural_network import MLPClassifier\n",
    "MLP_model=MLPClassifier(hidden_layer_sizes=(50,8),\n",
    "                   learning_rate_init=0.1,\n",
    "                   max_iter=100,\n",
    "                   random_state=2)\n",
    "# train model\n",
    "MLP_model.fit(X_sm,y_sm)\n",
    "\n",
    "# Make prediction on test data\n",
    "MLPy_test_pred=MLP_model.predict(X_test)\n",
    "\n",
    "# Make prediction on train data\n",
    "MLPy_train_pred=MLP_model.predict(X_train)"
   ]
  },
  {
   "cell_type": "markdown",
   "id": "64701189",
   "metadata": {},
   "source": [
    "### TRAINING ACCURACY"
   ]
  },
  {
   "cell_type": "code",
   "execution_count": 15,
   "id": "53afd395",
   "metadata": {},
   "outputs": [
    {
     "name": "stdout",
     "output_type": "stream",
     "text": [
      "Training accuracy of MLP model is: 92.08392942298522\n",
      "Classification report of training:\n",
      "               precision    recall  f1-score   support\n",
      "\n",
      "           0       1.00      0.92      0.96       747\n",
      "           1       0.77      1.00      0.87       539\n",
      "           2       1.00      0.87      0.93       811\n",
      "\n",
      "    accuracy                           0.92      2097\n",
      "   macro avg       0.92      0.93      0.92      2097\n",
      "weighted avg       0.94      0.92      0.92      2097\n",
      "\n"
     ]
    }
   ],
   "source": [
    "mlp_train_accuracy = accuracy_score(MLPy_train_pred,y_train)\n",
    "print(\"Training accuracy of MLP model is:\",mlp_train_accuracy*100)\n",
    "print(\"Classification report of training:\"'\\n',classification_report(MLPy_train_pred,y_train))"
   ]
  },
  {
   "cell_type": "markdown",
   "id": "f090f55e",
   "metadata": {},
   "source": [
    "### TESTING ACCURACY"
   ]
  },
  {
   "cell_type": "code",
   "execution_count": 16,
   "id": "dded919b",
   "metadata": {},
   "outputs": [
    {
     "name": "stdout",
     "output_type": "stream",
     "text": [
      "Testing accuracy of MLP model is: 93.71428571428572\n",
      "Classification report of testing:\n",
      "               precision    recall  f1-score   support\n",
      "\n",
      "           0       0.99      0.95      0.97       192\n",
      "           1       0.82      0.99      0.90       142\n",
      "           2       1.00      0.88      0.94       191\n",
      "\n",
      "    accuracy                           0.94       525\n",
      "   macro avg       0.94      0.94      0.93       525\n",
      "weighted avg       0.95      0.94      0.94       525\n",
      "\n"
     ]
    }
   ],
   "source": [
    "mlp_test_accuracy = accuracy_score(MLPy_test_pred,y_test)\n",
    "print(\"Testing accuracy of MLP model is:\",mlp_test_accuracy*100)\n",
    "print(\"Classification report of testing:\"'\\n',classification_report(MLPy_test_pred,y_test))"
   ]
  },
  {
   "cell_type": "markdown",
   "id": "765759cb",
   "metadata": {},
   "source": [
    "### 3. XG BOOSTING CLASSIFIER"
   ]
  },
  {
   "cell_type": "code",
   "execution_count": 17,
   "id": "bece8961",
   "metadata": {},
   "outputs": [],
   "source": [
    "from xgboost import XGBClassifier\n",
    "\n",
    "# Initialised model\n",
    "XGB_model=XGBClassifier()\n",
    "\n",
    "# train model with training data\n",
    "XGB_model.fit(X_sm, y_sm)\n",
    "\n",
    "# test model with testing data\n",
    "XGBy_test_pred=XGB_model.predict(X_test)\n",
    "\n",
    "# Make prediction on train data\n",
    "XGBy_train_pred=XGB_model.predict(X_train)"
   ]
  },
  {
   "cell_type": "markdown",
   "id": "7748548c",
   "metadata": {},
   "source": [
    "### TRAINING ACCURACY"
   ]
  },
  {
   "cell_type": "code",
   "execution_count": 18,
   "id": "b99753aa",
   "metadata": {},
   "outputs": [
    {
     "name": "stdout",
     "output_type": "stream",
     "text": [
      "Traning accuracy of XGB Model is: 100.0\n",
      "Classification report of XGB Model is: \n",
      "              precision    recall  f1-score   support\n",
      "\n",
      "           0       1.00      1.00      1.00       690\n",
      "           1       1.00      1.00      1.00       701\n",
      "           2       1.00      1.00      1.00       706\n",
      "\n",
      "    accuracy                           1.00      2097\n",
      "   macro avg       1.00      1.00      1.00      2097\n",
      "weighted avg       1.00      1.00      1.00      2097\n",
      "\n"
     ]
    }
   ],
   "source": [
    "xgb_train_accuracy = accuracy_score(XGBy_train_pred,y_train)\n",
    "print(f\"Traning accuracy of XGB Model is: {xgb_train_accuracy*100}\")\n",
    "print(f\"Classification report of XGB Model is: \\n{classification_report(XGBy_train_pred,y_train)}\")"
   ]
  },
  {
   "cell_type": "markdown",
   "id": "4dda9543",
   "metadata": {},
   "source": [
    "### TESTING ACCURACY"
   ]
  },
  {
   "cell_type": "code",
   "execution_count": 19,
   "id": "3112978c",
   "metadata": {},
   "outputs": [
    {
     "name": "stdout",
     "output_type": "stream",
     "text": [
      "Testing accuracy of XGB Model is :1.0\n",
      "Testing classification report of XGB Model is \n",
      "               precision    recall  f1-score   support\n",
      "\n",
      "           0       1.00      1.00      1.00       184\n",
      "           1       1.00      1.00      1.00       173\n",
      "           2       1.00      1.00      1.00       168\n",
      "\n",
      "    accuracy                           1.00       525\n",
      "   macro avg       1.00      1.00      1.00       525\n",
      "weighted avg       1.00      1.00      1.00       525\n",
      "\n"
     ]
    }
   ],
   "source": [
    "xgb_test_accuracy = accuracy_score(XGBy_test_pred, y_test)\n",
    "print(f\"Testing accuracy of XGB Model is :{xgb_test_accuracy}\")\n",
    "print(f\"Testing classification report of XGB Model is \\n {classification_report(XGBy_test_pred, y_test)}\")"
   ]
  },
  {
   "cell_type": "markdown",
   "id": "f832299f",
   "metadata": {},
   "source": [
    "### 4.RANDOM FOREST"
   ]
  },
  {
   "cell_type": "code",
   "execution_count": 20,
   "id": "1ee04b64",
   "metadata": {},
   "outputs": [],
   "source": [
    "# importing libary and creating object\n",
    "from sklearn.ensemble import RandomForestClassifier\n",
    "rf = RandomForestClassifier(n_estimators=100) # 100 decision tree\n",
    "\n",
    "# fitting training data\n",
    "rf.fit(X_train,y_train)\n",
    "\n",
    "# Prediction on testing data\n",
    "rf_test_predict = rf.predict(X_test)\n",
    "\n",
    "# Prediction on training data\n",
    "rf_train_predict = rf.predict(X_train)"
   ]
  },
  {
   "cell_type": "markdown",
   "id": "9ed534ed",
   "metadata": {},
   "source": [
    "### TRAINING ACCURACY"
   ]
  },
  {
   "cell_type": "code",
   "execution_count": 21,
   "id": "703da7d1",
   "metadata": {},
   "outputs": [
    {
     "name": "stdout",
     "output_type": "stream",
     "text": [
      "Training accuracy of random forest 1.0\n",
      "Classification report of training: \n",
      "               precision    recall  f1-score   support\n",
      "\n",
      "           0       1.00      1.00      1.00       690\n",
      "           1       1.00      1.00      1.00       701\n",
      "           2       1.00      1.00      1.00       706\n",
      "\n",
      "    accuracy                           1.00      2097\n",
      "   macro avg       1.00      1.00      1.00      2097\n",
      "weighted avg       1.00      1.00      1.00      2097\n",
      "\n"
     ]
    }
   ],
   "source": [
    "rf_train_accuracy = accuracy_score(rf_train_predict,y_train)\n",
    "print(\"Training accuracy of random forest\",rf_train_accuracy)\n",
    "print(\"Classification report of training: \\n\",classification_report(rf_train_predict,y_train))"
   ]
  },
  {
   "cell_type": "markdown",
   "id": "13637c44",
   "metadata": {},
   "source": [
    "### TESTING ACCURACY"
   ]
  },
  {
   "cell_type": "code",
   "execution_count": 22,
   "id": "187c517c",
   "metadata": {},
   "outputs": [
    {
     "name": "stdout",
     "output_type": "stream",
     "text": [
      "Testing accuracy of random forest 94.66666666666667\n",
      "Classification report of testing: \n",
      "               precision    recall  f1-score   support\n",
      "\n",
      "           0       0.97      0.96      0.96       186\n",
      "           1       0.90      0.95      0.92       164\n",
      "           2       0.98      0.94      0.96       175\n",
      "\n",
      "    accuracy                           0.95       525\n",
      "   macro avg       0.95      0.95      0.95       525\n",
      "weighted avg       0.95      0.95      0.95       525\n",
      "\n"
     ]
    }
   ],
   "source": [
    "rf_test_accuracy = accuracy_score(rf_test_predict,y_test)\n",
    "print(\"Testing accuracy of random forest\",rf_test_accuracy*100)\n",
    "print(\"Classification report of testing: \\n\",classification_report(rf_test_predict,y_test))"
   ]
  },
  {
   "cell_type": "markdown",
   "id": "016ed719",
   "metadata": {},
   "source": [
    "### 5. KNN CLASSIFIER"
   ]
  },
  {
   "cell_type": "code",
   "execution_count": 23,
   "id": "ff13e0c8",
   "metadata": {},
   "outputs": [
    {
     "name": "stdout",
     "output_type": "stream",
     "text": [
      "Error rate: [0.16380952380952382, 0.17904761904761904, 0.19047619047619047, 0.1961904761904762, 0.2, 0.20761904761904762, 0.21904761904761905, 0.22095238095238096, 0.21523809523809523]\n"
     ]
    }
   ],
   "source": [
    "from sklearn.neighbors import KNeighborsClassifier\n",
    "\n",
    "# Creating empty list\n",
    "error_rate = [] \n",
    "for i in range(2,11):\n",
    "    knn = KNeighborsClassifier(n_neighbors=i)\n",
    "    knn.fit(X_train,y_train)\n",
    "    y_knn_predict = knn.predict(X_test)\n",
    "    error_rate.append(np.mean(y_knn_predict != y_test))\n",
    "print(\"Error rate:\",error_rate)"
   ]
  },
  {
   "cell_type": "code",
   "execution_count": 24,
   "id": "b010811d",
   "metadata": {},
   "outputs": [
    {
     "data": {
      "image/png": "[encoded data removed]",
      "text/plain": [
       "<Figure size 1000x600 with 1 Axes>"
      ]
     },
     "metadata": {},
     "output_type": "display_data"
    }
   ],
   "source": [
    "# Step:2 Plotting the error rate\n",
    "plt.figure(figsize=(10,6))\n",
    "plt.plot(range(2,11),error_rate,color='blue', linestyle='dashed',marker='o',markerfacecolor='red', markersize=10)\n",
    "plt.title('Error Rate vs. K Value')\n",
    "plt.xlabel('K')\n",
    "plt.ylabel('Error Rate')\n",
    "plt.show()"
   ]
  },
  {
   "cell_type": "code",
   "execution_count": 25,
   "id": "657627fd",
   "metadata": {},
   "outputs": [],
   "source": [
    "# Step:3 Get nearst neighbors\n",
    "knn1 = KNeighborsClassifier(n_neighbors=2)\n",
    "\n",
    "# Step:4 Fitting the training data\n",
    "knn1.fit(X_train,y_train)\n",
    "\n",
    "# Step:5 Prediction on testing data\n",
    "knn_test_predict = knn1.predict(X_test)\n",
    "\n",
    "# Step:6 Prediction on training data\n",
    "knn_train_predict = knn1.predict(X_train)"
   ]
  },
  {
   "cell_type": "markdown",
   "id": "475bbf04",
   "metadata": {},
   "source": [
    "### TRAINING ACCURACY"
   ]
  },
  {
   "cell_type": "code",
   "execution_count": 26,
   "id": "aff1d773",
   "metadata": {},
   "outputs": [
    {
     "name": "stdout",
     "output_type": "stream",
     "text": [
      "Training accuracy of knn model  94.51597520267048\n",
      "Training classification report:\n",
      "               precision    recall  f1-score   support\n",
      "\n",
      "           0       1.00      0.86      0.92       805\n",
      "           1       0.84      1.00      0.91       586\n",
      "           2       1.00      1.00      1.00       706\n",
      "\n",
      "    accuracy                           0.95      2097\n",
      "   macro avg       0.95      0.95      0.94      2097\n",
      "weighted avg       0.95      0.95      0.95      2097\n",
      "\n"
     ]
    }
   ],
   "source": [
    "knn_train_accuracy = accuracy_score(y_train,knn_train_predict)\n",
    "print(\"Training accuracy of knn model \",knn_train_accuracy*100)\n",
    "print(\"Training classification report:\\n\",classification_report(knn_train_predict,y_train))"
   ]
  },
  {
   "cell_type": "markdown",
   "id": "6657e41f",
   "metadata": {},
   "source": [
    "### TESTING ACCURACY"
   ]
  },
  {
   "cell_type": "code",
   "execution_count": 27,
   "id": "52540b60",
   "metadata": {},
   "outputs": [
    {
     "name": "stdout",
     "output_type": "stream",
     "text": [
      "Testing accuracy of knn model 83.61904761904762\n",
      "Testing classification report: \n",
      "               precision    recall  f1-score   support\n",
      "\n",
      "           0       0.75      1.00      0.86       184\n",
      "           1       1.00      0.50      0.67       173\n",
      "           2       0.87      1.00      0.93       168\n",
      "\n",
      "    accuracy                           0.84       525\n",
      "   macro avg       0.87      0.83      0.82       525\n",
      "weighted avg       0.87      0.84      0.82       525\n",
      "\n"
     ]
    }
   ],
   "source": [
    "knn_test_accuracy = accuracy_score(y_test,knn_test_predict)\n",
    "print(\"Testing accuracy of knn model\",knn_test_accuracy*100)\n",
    "print(\"Testing classification report: \\n\",classification_report(y_test,knn_test_predict))"
   ]
  },
  {
   "cell_type": "markdown",
   "id": "2214a788",
   "metadata": {},
   "source": [
    "### Conclusion:\n",
    "\n",
    "- Support Vector Machine demonstrates robust performance on the training data, achieving an accuracy of 96.61%, while the testing score is slightly lower at 94.66%.\n",
    "- Artificial Neural Network (Multilayer Perceptron) exhibits commendable performance on the training data, achieving an accuracy of 92.08%, and maintains a high testing score of 93.71%.\n",
    "- XG Boosting consistently performs exceptionally well in both training and testing, attaining a 100% accuracy rate. it raises concerns about overfitting.\n",
    "- Random Forest achieves a perfect accuracy of 100% on the training data but slightly decreases to 94.66% on the testing set.\n",
    "- K-Nearest Neighbors performs well on the training data with an accuracy of 94.51%, but the testing score is comparatively lower at 83.61%.\n",
    "- Considering the overall performance, Support Vector Machine is selected as the preferred model due to its strong accuracy and generalization on both training and testing datasets."
   ]
  },
  {
   "cell_type": "markdown",
   "id": "f32a4663",
   "metadata": {},
   "source": [
    "### MODEL SAVING"
   ]
  },
  {
   "cell_type": "code",
   "execution_count": 28,
   "id": "52a90606",
   "metadata": {},
   "outputs": [],
   "source": [
    "# saving model with the help of pickle\n",
    "import pickle\n",
    "\n",
    "file = open('Support_vector_classifier_model.pkl','wb')\n",
    "pickle.dump(svc,file)"
   ]
  },
  {
   "cell_type": "markdown",
   "id": "c9744c7b",
   "metadata": {},
   "source": [
    "#### ------------------------------------------------------------------------ THANK YOU ---------------------------------------------------------------------------"
   ]
  },
  {
   "cell_type": "code",
   "execution_count": null,
   "id": "97da9945",
   "metadata": {},
   "outputs": [],
   "source": []
  }
 ],
 "metadata": {
  "kernelspec": {
   "display_name": "Python 3 (ipykernel)",
   "language": "python",
   "name": "python3"
  },
  "language_info": {
   "codemirror_mode": {
    "name": "ipython",
    "version": 3
   },
   "file_extension": ".py",
   "mimetype": "text/x-python",
   "name": "python",
   "nbconvert_exporter": "python",
   "pygments_lexer": "ipython3",
   "version": "3.9.13"
  }
 },
 "nbformat": 4,
 "nbformat_minor": 5
}
