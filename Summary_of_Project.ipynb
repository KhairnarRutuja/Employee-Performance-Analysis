{
 "cells": [
  {
   "cell_type": "markdown",
   "id": "82cf9e7b",
   "metadata": {},
   "source": [
    "# Employee Performance Analysis"
   ]
  },
  {
   "cell_type": "markdown",
   "id": "9c2ed86e",
   "metadata": {},
   "source": [
    "## INX Future Inc.\n",
    "- Candidate Name : Rutuja sanjay Khairnar\n",
    "\n",
    "- Candidate E-Mail : rutujakhairnar2019@gmail.com\n",
    "\n",
    "- Project Code : 10281\n",
    "\n",
    "- REP Name : DataMites™ Solutions Pvt Ltd\n",
    "\n",
    "- Assesment ID : E10901-PR2-V18\n",
    "\n",
    "- Module : Certified Data Scientist - Project\n",
    "\n",
    "- Exam Format : Open Project- IABAC™ Project Submission\n",
    "\n",
    "- Project Assessment : IABAC™\n",
    "\n",
    "- Registered Trainer : Ashok Kumar A\n",
    "\n",
    "- Submission Deadline Date: 23-Jan-2024"
   ]
  },
  {
   "cell_type": "markdown",
   "id": "d7ee582c",
   "metadata": {},
   "source": [
    "# PROJECT SUMMARY:"
   ]
  },
  {
   "cell_type": "markdown",
   "id": "0bbb69c0",
   "metadata": {},
   "source": [
    "## BUISNESSCASE & GOAL OF PROJECT: BASED ON GIVEN FEATURE OF DATASET WE NEED TO PREDICT THE PERFOMANCE RATING OF EMPLOYEE"
   ]
  },
  {
   "cell_type": "markdown",
   "id": "bed96198",
   "metadata": {},
   "source": [
    "### INX Future Inc Employee Performance - Project\n",
    "The Data science project which is given here is an analysis of employee performance."
   ]
  },
  {
   "cell_type": "markdown",
   "id": "d4f842dc",
   "metadata": {},
   "source": [
    "**The Goal and Insights of the project are as follows:**\n",
    "\n",
    "1. Department wise performances\n",
    "2. Top 3 Important Factors effecting employee performance\n",
    "3. A trained model which can predict the employee performance based on factors as inputs.\n",
    "This will be used to hire employees\n",
    "4. Recommendations to improve the employee performance based on insights from analysis\n",
    "\n",
    "In this comprehensive project, we thoroughly analyzed a dataset containing information on 1200 employees with 28 features. The dataset was divided into quantitative and qualitative features, where 19 features were quantitative (comprising 11 numeric and 8 ordinal columns), and 8 features were qualitative. The 'EmpNumber' feature, containing alphanumeric data, was identified as irrelevant to performance rating and was excluded from further analysis.\n",
    "\n",
    "Our analysis journey encompassed Univariate, Bivariate, and Multivariate stages, including correlation analysis and a department-wise breakdown. Correlation, a statistical measure revealing linear relationships between variables, played a crucial role in understanding the association between features and performance ratings.\n",
    "\n",
    "Given the mixed nature of the dataset, incorporating both categorical and numerical data, we approached the project as a classification problem, with the target variable representing ordinal data. To address this, we employed three machine learning models: Support Vector Classifier, Random Forest Classifier, and Artificial Neural Network (Multilayer Perceptron). Among these models, the support vector machine demonstrated the highest accuracy at 95.80%.\n",
    "\n",
    "A key objective of the project was to identify the most influential features impacting performance ratings. To achieve this, we employed feature importance techniques within machine learning models. Notably, we utilized Manual and Frequency Encoding methods during preprocessing to convert string-based categorical data into numerical formats. This transformation was crucial as most machine learning algorithms operate on numerical inputs.\n",
    "\n",
    "The project successfully met its goals through a combination of machine learning models and visualization techniques. The findings not only provided accurate performance rating predictions but also unearthed valuable insights into the factors driving employee performance. The thorough analysis and strategic use of diverse techniques showcase the depth and effectiveness of our approach in addressing the project objectives."
   ]
  },
  {
   "cell_type": "markdown",
   "id": "231d3025",
   "metadata": {},
   "source": [
    "## 1. Requirement"
   ]
  },
  {
   "cell_type": "markdown",
   "id": "8c1050df",
   "metadata": {},
   "source": [
    "The data provided for this project was sourced from IABAC, where the collected information originates from IABAC™. The dataset revolves around INX Future Inc (referred to as INX), a prominent provider of data analytics and automation solutions, boasting over 15 years of global business presence. INX has consistently held a position as one of the top 20 best employers for the past five years. It's crucial to note that the data does not stem from an actual organization. The entire project was conducted in a Jupyter notebook using the Python platform."
   ]
  },
  {
   "cell_type": "markdown",
   "id": "6c8ead0c",
   "metadata": {},
   "source": [
    "## 2. Analysis"
   ]
  },
  {
   "cell_type": "markdown",
   "id": "c0b1bb38",
   "metadata": {},
   "source": [
    "The analysis involved a description of the data features, which play a significant role in the overall analysis. These features provide insights into the relationship between dependent and independent variables. Pandas was utilized to describe the datasets, addressing key questions early in the project. The data within the dataset were categorized into numerical and categorical data, allowing for a comprehensive understanding of the information at hand."
   ]
  },
  {
   "cell_type": "markdown",
   "id": "1e90a26e",
   "metadata": {},
   "source": [
    "## Categorical Features\n",
    "- EmpNumber\n",
    "- Gender\n",
    "- EducationBackground\n",
    "- MaritalStatus\n",
    "- EmpDepartment\n",
    "- EmpJobRole\n",
    "- BusinessTravelFrequency\n",
    "- OverTime\n",
    "- Attrition"
   ]
  },
  {
   "cell_type": "markdown",
   "id": "55ca013e",
   "metadata": {},
   "source": [
    "## Numerical Features\n",
    "- Age\n",
    "- DistanceFromHome\n",
    "- EmpHourlyRate\n",
    "- NumCompaniesWorked\n",
    "- EmpLastSalaryHikePercent\n",
    "- TotalWorkExperienceInYears\n",
    "- TrainingTimesLastYear\n",
    "- ExperienceYearsAtThisCompany\n",
    "- ExperienceYearsInCurrentRole\n",
    "- YearsSinceLastPromotion\n",
    "- YearsWithCurrManager"
   ]
  },
  {
   "cell_type": "markdown",
   "id": "b21b74aa",
   "metadata": {},
   "source": [
    "## Ordinal Features\n",
    "- EmpEducationLevel\n",
    "- EmpEnvironmentSatisfaction\n",
    "- EmpJobInvolvement\n",
    "- EmpJobLevel\n",
    "- EmpJobSatisfaction\n",
    "- EmpRelationshipSatisfaction\n",
    "- EmpWorkLifeBalance\n",
    "- PerformanceRating"
   ]
  },
  {
   "cell_type": "markdown",
   "id": "da84808c",
   "metadata": {},
   "source": [
    "## 3.Univariate, Bivariate, & Multivariate Analysis\n",
    "\n",
    "Library Used: Matplotlib & Seaborn\n",
    "Plots Used: Histplot, Violinplot, CountPlot, Barplot\n",
    "\n",
    "**1. Univariate Analysis:**\n",
    "In Univariate analysis, the focus is on obtaining unique labels of categorical features, along with exploring the range and density of numerical values. This process involves utilizing Matplotlib and Seaborn libraries to create informative visualizations, including Histplot for numerical data and CountPlot for categorical data. The insights gathered during Univariate Analysis contribute to a comprehensive understanding of individual features.\n",
    "\n",
    "**2. Bivariate Analysis:**\n",
    "Bivariate Analysis involves examining the relationship between each independent feature and the dependent variable. Utilizing Matplotlib and Seaborn, various plots such as histplot and Barplot are employed to visually assess the interactions between variables. This analysis provides valuable insights into how independent features correlate with the target variable, contributing to a nuanced understanding of feature dynamics.\n",
    "\n",
    "**3. Multivariate Analysis:**\n",
    "Multivariate Analysis extends the examination to the relationship between two variables concerning the target variable. Employing advanced visualizations such as Violinplot and barplot using Matplotlib and Seaborn, this analysis delves into the complex interactions and dependencies within the dataset."
   ]
  },
  {
   "cell_type": "markdown",
   "id": "89209ad2",
   "metadata": {},
   "source": [
    "## 4.Explotary Data Analysis"
   ]
  },
  {
   "cell_type": "markdown",
   "id": "35927f99",
   "metadata": {},
   "source": [
    "### Basic Check & Statistical Measures\n",
    "Their is no constant column is present in Numerical as well as categoriacl data."
   ]
  },
  {
   "cell_type": "markdown",
   "id": "c050c2aa",
   "metadata": {},
   "source": [
    "### Distribution of Continuous Features:\n",
    "In the initial stages of data exploration, it is crucial to gain a preliminary understanding of how various features are distributed relative to one another. To achieve this, the distplot function from the Seaborn plotting library is employed. This distribution analysis encompasses both numerical features, offering an overarching view of data density and concentration across different levels.\n",
    "\n",
    "- The age distribution spans from 18 to 60, with the majority of employees falling within the 30 to 40 age range. \n",
    "\n",
    "- Employees have varied experiences across multiple companies, with a notable proportion having worked in up to 8 companies. The prevalent trend indicates that many employees joined the company after employment in 2 prior companies.\n",
    "\n",
    "- Hourly rates exhibit a range of 65 to 95, indicating that the majority of employees fall within this salary bracket. \n",
    "\n",
    "- In general, the tenure of most employees in the company does not exceed 5 years. Furthermore, the majority of employees receive a salary hike ranging from 11% to 15%, reflecting a consistent pattern in the compensation structure of the organization."
   ]
  },
  {
   "cell_type": "markdown",
   "id": "3c647082",
   "metadata": {},
   "source": [
    "### Check Skewness and Kurtosis of Numerical Features\n",
    "- Checking weather the data is Normally distributed or Not with Skewness and Kurtosis,\n",
    "- The numerical feature \"YearsSinceLastPromotion\" exhibits skewness, as indicated by a skewness value of 1.9724. This positive skewness suggests that the distribution of the data is skewed to the right, with a longer tail on the positive side. \n",
    "- Additionally, the kurtosis value for\"YearsSinceLastPromotion\" is 3.5194, indicating that the distribution has heavier tails and a more pronounced peak compared to a normal distribution. Overall, these skewness and kurtosis values imply that the data in the \"YearsSinceLastPromotion\" column is not normally distributed."
   ]
  },
  {
   "cell_type": "markdown",
   "id": "ea2a88a3",
   "metadata": {},
   "source": [
    "### Distribution of Mean of Data\n",
    "The distribution of the mean closely resembles a Gaussian distribution with a mean value of 9.5. Approximately 80% of feature means fall within the range of 8.5 to 10.5, indicating a central tendency around the mean value.\n",
    "\n",
    "### Distribution of Standard Deviation of Data\n",
    "The distribution of the standard deviation in the data exhibits a Gaussian-like pattern. Approximately 30% of feature standard deviations are concentrated in the range of 3 to 20, while the remaining 70% of feature standard deviations fall within the range of 0 to 2. "
   ]
  },
  {
   "cell_type": "markdown",
   "id": "0d35c4ee",
   "metadata": {},
   "source": [
    "## 5.Data Pre-Processing"
   ]
  },
  {
   "cell_type": "markdown",
   "id": "cca8ae3b",
   "metadata": {},
   "source": [
    "### 1.checking for Missing Values:\n",
    "- No instances of missing values were identified in the dataset."
   ]
  },
  {
   "cell_type": "markdown",
   "id": "c27ae49d",
   "metadata": {},
   "source": [
    "### 2.Categorical Data Conversion: \n",
    "- To manage categorical data with numerous labels, a dual approach of manual encoding and frequency encoding was employed.\n",
    "\n",
    "**1. Manual Encoding:**\n",
    "- Utilizing the map function, manual encoding proved to be an effective technique. This method involves mapping labels based on their frequency, providing a structured conversion of categorical features.\n",
    "\n",
    "**2. Frequency Encoding:**\n",
    "- This technique transforms categorical variables into numerical values by considering the frequency distribution. By incorporating value counts, frequency encoding captures the prevalence of each label within the data, facilitating a numerical representation."
   ]
  },
  {
   "cell_type": "markdown",
   "id": "41acb082",
   "metadata": {},
   "source": [
    "### 3.Outlier Handling:\n",
    "- As certain features exhibit outliers, the approach to address this involves imputation utilizing the Interquartile Range (IQR) method. Given that the data in these features does not conform to a normal distribution, IQR proves to be a robust technique for identifying and managing outliers within the dataset."
   ]
  },
  {
   "cell_type": "markdown",
   "id": "78e061c5",
   "metadata": {},
   "source": [
    "### 4.Feature Transformation: \n",
    "- Addressing the presence of skewness and kurtosis in the \"YearsSinceLastPromotion\" feature, a Square Root Transformation technique is applied.\n",
    "\n",
    "**Square Root Transformation:** This method involves replacing each data point with its square root, particularly useful for count data or small whole numbers. Negative values are converted to positive by adding a constant before the transformation.\n",
    "\n",
    "**Q-Q Plot:** Utilizing a Q-Q plot, the transformation's effectiveness is visually evaluated by comparing the quantiles of the transformed data against a theoretical distribution."
   ]
  },
  {
   "cell_type": "markdown",
   "id": "4d65389a",
   "metadata": {},
   "source": [
    "### 5. Scaling the Data: \n",
    "- The data is scaled using the Standard Scalar technique.\n",
    "\n",
    "**Standard Scaling:** Standardization involves scaling the features, assuming a normal distribution. It transforms the features to have a mean of 0 and a standard deviation of 1, ensuring consistency in scaling across the dataset."
   ]
  },
  {
   "cell_type": "markdown",
   "id": "d8f78df9",
   "metadata": {},
   "source": [
    "## 6.Future Selection"
   ]
  },
  {
   "cell_type": "markdown",
   "id": "d8fcafd8",
   "metadata": {},
   "source": [
    "### 1. Dropping Unique and Constant Features:\n",
    "- The \"Employee Number\" column is dropped as it contains constant values.\n",
    "- The \"Years Since Last Promotion\" column is also dropped since a new feature has been created using square root transformation."
   ]
  },
  {
   "cell_type": "markdown",
   "id": "be7325e1",
   "metadata": {},
   "source": [
    "### 2. Checking Correlation:\n",
    "- Correlation is examined through the use of a heatmap.\n",
    "- The heatmap, a graphical representation using color-coding, reveals that there are no highly correlated features present in the dataset."
   ]
  },
  {
   "cell_type": "markdown",
   "id": "ab015603",
   "metadata": {},
   "source": [
    "### 3.Checking Duplicates:\n",
    "- Thorough examination confirms the absence of any duplicate entries in the dataset."
   ]
  },
  {
   "cell_type": "markdown",
   "id": "07a22147",
   "metadata": {},
   "source": [
    "### 4. PCA (Principal Component Analysis):\n",
    "- PCA is employed to reduce the dimensionality of the data, which initially contains 27 features after dropping unique and constant columns.\n",
    "- Through PCA, it is determined that using 25 features results in minimal variance loss, making them the selected set for analysis.\n",
    "- Principal Component Analysis is a statistical technique designed to analyze large datasets with numerous dimensions per observation. It aids in enhancing data interpretability, preserving information, and facilitating the visualization of multidimensional data."
   ]
  },
  {
   "cell_type": "markdown",
   "id": "ec2d22c2",
   "metadata": {},
   "source": [
    "### 5. Saving Pre-Processed Data:\n",
    "- The pre-processed data, incorporating all the transformations and modifications, is saved into a new file.\n",
    "- The target feature is added to the saved file to ensure completeness and facilitate further analysis."
   ]
  },
  {
   "cell_type": "markdown",
   "id": "226344e7",
   "metadata": {},
   "source": [
    "### 1. What were the most important features selected for analysis and why?\n",
    "- The most important features selected for analysis were determined through Principal Component Analysis (PCA). After dropping unique and constant columns, the dataset initially comprised 27 features. The PCA analysis revealed that retaining 25 features resulted in minimal variance loss. Therefore, these 25 features were considered the most important for further analysis. PCA is utilized to reduce dimensionality while preserving essential variance, making the chosen features representative of the dataset and suitable for in-depth analysis."
   ]
  },
  {
   "cell_type": "markdown",
   "id": "54bb1864",
   "metadata": {},
   "source": [
    "### 2. Did you make any important feature transformations? \n",
    "- Yes, an important feature transformation was applied to address skewness and kurtosis in the \"YearsSinceLastPromotion\" feature. Specifically, a Square Root Transformation technique was employed. This transformation involves replacing each data point with its square root, and it is particularly useful for handling skewness, especially in count data or small whole numbers. Additionally, to handle negative values, a constant was added before the transformation. The Square Root Transformation aims to improve the distributional properties of the \"YearsSinceLastPromotion\" feature, making it more suitable for analysis."
   ]
  },
  {
   "cell_type": "markdown",
   "id": "954f922f",
   "metadata": {},
   "source": [
    "### 3. Correlation or interactions among the features selected and how it is considered? \n",
    "In the context of the feature selection process using Principal Component Analysis (PCA), the technique inherently considers correlations or interactions among the features.\n",
    "1. Correlations: PCA looks at how features relate to each other.\n",
    "2. Interactions: It identifies patterns or interactions among features.\n",
    "3. Reduction: PCA simplifies data by combining features, keeping the most important information.\n",
    "4. Minimizing Redundancy: It helps avoid using overly similar features, making the analysis more efficient.\n",
    "In essence, PCA considers how features work together, finds important patterns, and simplifies the data for better analysis."
   ]
  },
  {
   "cell_type": "markdown",
   "id": "11b09d17",
   "metadata": {},
   "source": [
    "## 7.Machine learning Model Creation & Evaluation"
   ]
  },
  {
   "cell_type": "markdown",
   "id": "ec79ca08",
   "metadata": {},
   "source": [
    "### 1. Define Dependent and Independent Features:"
   ]
  },
  {
   "cell_type": "markdown",
   "id": "a81f9b6b",
   "metadata": {},
   "source": [
    "### 2. Balancing the Data:\n",
    "- The dataset is observed to be imbalanced, prompting the need for balancing techniques.\n",
    "- SMOTE (Synthetic Minority Oversampling Technique) is employed to address this imbalance. SMOTE is a widely used oversampling method designed to rectify class distribution by randomly generating synthetic instances within the minority class. It alleviates the imbalance issue by creating new instances between existing minority instances."
   ]
  },
  {
   "cell_type": "markdown",
   "id": "91690aa0",
   "metadata": {},
   "source": [
    "### 3. Splitting Training and Testing Data:\n",
    "- The dataset is split into training and testing sets, with 80% of the data allocated for training purposes.\n",
    "- The remaining 20% of the data is reserved for testing, ensuring a comprehensive evaluation of the model's performance on unseen data."
   ]
  },
  {
   "cell_type": "markdown",
   "id": "40acf488",
   "metadata": {},
   "source": [
    "### Algorithm:"
   ]
  },
  {
   "cell_type": "markdown",
   "id": "c2a858a1",
   "metadata": {},
   "source": [
    "### HERE WE WILL BE EXPERIMENTING WITH FIVE ALGORITHM\n",
    "\n",
    "1. Support Vector Machine\n",
    "2. Artificial Neural Network [MLP Classifier]\n",
    "3. XG Boosting\n",
    "4. Random forest\n",
    "5. KNN\n",
    "\n",
    "- Support Vector Machine demonstrates robust performance on the training data, achieving an accuracy of 96.61%, while the testing score is slightly lower at 94.66%.\n",
    "- Artificial Neural Network (Multilayer Perceptron) exhibits commendable performance on the training data, achieving an accuracy of 92.08%, and maintains a high testing score of 93.71%.\n",
    "- XG Boosting consistently performs exceptionally well in both training and testing, attaining a 100% accuracy rate. it raises concerns about overfitting.\n",
    "- Random Forest achieves a perfect accuracy of 100% on the training data but slightly decreases to 94.66% on the testing set.\n",
    "- K-Nearest Neighbors performs well on the training data with an accuracy of 94.51%, but the testing score is comparatively lower at 83.61%.\n",
    "- Considering the overall performance, Support Vector Machine is selected as the preferred model due to its strong accuracy and generalization on both training and testing datasets."
   ]
  },
  {
   "cell_type": "markdown",
   "id": "1c457a3b",
   "metadata": {},
   "source": [
    "## 8.Saving Model"
   ]
  },
  {
   "cell_type": "markdown",
   "id": "0c048199",
   "metadata": {},
   "source": [
    "Save model with the helpof pickle file"
   ]
  },
  {
   "cell_type": "markdown",
   "id": "6becf8fa",
   "metadata": {},
   "source": [
    "## Tools and Library Used:\n",
    "### Tools:\n",
    "- Jupyter\n",
    "### Library Used:\n",
    "- Pandas\n",
    "- Numpy\n",
    "- Matplotlib\n",
    "- Seaborn\n",
    "- pylab\n",
    "- Scipy\n",
    "- Sklearn\n",
    "- Pickle"
   ]
  },
  {
   "cell_type": "markdown",
   "id": "657b3625",
   "metadata": {},
   "source": [
    "## Goal 1: Department Wise Performances"
   ]
  },
  {
   "cell_type": "markdown",
   "id": "3b0f9fd2",
   "metadata": {},
   "source": [
    "**PLOT USED**\n",
    "\n",
    "**Violinplot:** It shows the distribution of quantitative data across several levels of one (or more) categorical variables such that those distributions can be compared.\n",
    "\n",
    "**CountPlot:** countplot is used to Show the counts of observations in each categorical bin using bars."
   ]
  },
  {
   "cell_type": "markdown",
   "id": "66a95637",
   "metadata": {},
   "source": [
    "**1. SALES:**\n",
    "- Among the various performance levels, employees in the sales department consistently exhibit a higher performance rating at level 3 in contrast to levels 2 and 4. \n",
    "- Moreover, a fascinating gender-based disparity emerges within the sales department's performance ratings. The data reveals that female employees tend to receive slightly higher performance ratings compared to their male counterparts. \n",
    "\n",
    "**2. HUMAN RESOURCES:**\n",
    "- In the Human Resources department there's a clear seen performance rating trend  employees often higher performance rating at level 3 compared to both level 2 and level 4. Interestingly, when we look at gender differences, male employees in HR tend to have higher performance ratings compared to their female colleagues.\n",
    "\n",
    "**3. DEVELOPMENT:**\n",
    "- In the Development department, most employees are getting better performance ratings at level 3 compared to levels 2 and 4. Surprisingly, there's not much of a difference between male and female employees—they both have almost the same ratings.\n",
    "\n",
    "**4. DATA SCIENCE:**\n",
    "- In the Data Science department, employees tend to excel with higher performance ratings at level 3 compared to levels 2 and 4. Male employees, in particular, are performing well in this department. However, overall performance ratings in this department are lower compared to other departments.\n",
    "\n",
    "**5. REASEARCH AND DEVELOPMENT:**\n",
    "- In the Research and Development department, employees receive higher performance ratings at level 3 compared to levels 2 and 4. Interestingly, female employees have slightly higher performance ratings than their male counterparts in this department.\n",
    "\n",
    "**6. FINANCE:**\n",
    "- In the Finance department, employees tend to have higher performance ratings at level 3 compared to levels 2 and 4. Notably, male employees excel in this department. \n"
   ]
  },
  {
   "cell_type": "markdown",
   "id": "be59f779",
   "metadata": {},
   "source": [
    "## Goal 2: Top 3 Important Factors effecting employee performance"
   ]
  },
  {
   "cell_type": "markdown",
   "id": "e853e401",
   "metadata": {},
   "source": [
    "- The top three important features affecting the performance rating are ordered with their importance level as follows,\n",
    "\n",
    "1. Employment Environment Satisfaction\n",
    "2. Employee Salary Hike Percentage\n",
    "3. Experience Years In CurrentRole"
   ]
  },
  {
   "cell_type": "markdown",
   "id": "34c3b421",
   "metadata": {},
   "source": [
    "**1. Employee Environment Satisfaction:**\n",
    "\n",
    "The predominant performance ratings for employees are found at levels 3 and 4, with 367 and 361 employees, respectively, indicating a high level of satisfaction with their work environment.\n",
    "\n",
    "**2. Employee Last Salary Hike Percent:**\n",
    "\n",
    "Employees experiencing a salary hike in the range of 11-19% are more likely to receive performance ratings of 2 and 3. In contrast, those receiving a hike between 20-22% tend to achieve higher performance ratings, especially at level 4.\n",
    "\n",
    "**3. Employee Work-Life Balance:**\n",
    "\n",
    "Employees who report a work-life balance at level 3 demonstrate higher performance ratings, suggesting a positive association between work-life balance and overall work performance."
   ]
  },
  {
   "cell_type": "markdown",
   "id": "9a467703",
   "metadata": {},
   "source": [
    "## Goal 3: A Trained model which can predict the employee performance"
   ]
  },
  {
   "cell_type": "markdown",
   "id": "feb0e183",
   "metadata": {},
   "source": [
    "- The trained model is created using the machine learning algorithm as follows with the accuracy score,\n",
    "- Support Vector Machine on the training data, achieving an accuracy of 96.61%, while the testing score is slightly lower at 94.66%.\n",
    "- Artificial Neural Network (Multilayer Perceptron)  on the training data, achieving an accuracy of 92.08%, and maintains a high testing score of 93.71%.\n",
    "- XG Boosting well in both training and testing, attaining a 100% accuracy rate.\n",
    "- Random Forest achieves a perfect accuracy of 100% on the training data but slightly decreases to 94.66% on the testing set.\n",
    "- K-Nearest Neighbors on the training data with an accuracy of 94.51%, but the testing score is 83.61%."
   ]
  },
  {
   "cell_type": "markdown",
   "id": "bab2fe69",
   "metadata": {},
   "source": [
    "## Goal 4: Recommendations to improve the employee performance"
   ]
  },
  {
   "cell_type": "markdown",
   "id": "c0f85e06",
   "metadata": {},
   "source": [
    "**1. Prioritize Employee Environment Satisfaction:**\n",
    "\n",
    "Conduct regular surveys to gauge employee satisfaction with the work environment.\n",
    "Identify areas of improvement based on feedback and implement necessary changes.\n",
    "Foster a positive and inclusive workplace culture to enhance overall satisfaction.\n",
    "\n",
    "**2. Implement Salary Hikes:**\n",
    "\n",
    "Consider regular evaluations of employee performance and provide salary hikes as a reward for outstanding contributions.\n",
    "Ensure a transparent and fair system for determining salary increases.\n",
    "Communicate the connection between performance and rewards to motivate employees.\n",
    "\n",
    "**3. Regular Employee Promotions:** \n",
    "\n",
    "Establish a policy to promote employees every 6 months, recognizing and rewarding consistent high performance.\n",
    "Provide clear criteria for promotion to encourage career growth and development.\n",
    "\n",
    "**4. Enhance Work-Life Balance:** \n",
    "\n",
    "Introduce flexible work arrangements and policies to support better work-life balance.\n",
    "Encourage employees to take advantage of vacation days and provide resources for managing stress.\n",
    "\n",
    "**5. Promote Gender Diversity in HR Recruitment:**\n",
    "\n",
    "Actively consider and promote female candidates during HR recruitment.\n",
    "Recognize the strengths and contributions of female employees in the workplace.\n",
    "\n",
    "While some of the employees who gives feedback like Low & Medium from Job Satisfaction & Relationship Satisfaction feature, such employees gives Excellent performance more in number. So company should focus on them."
   ]
  },
  {
   "cell_type": "markdown",
   "id": "49804c23",
   "metadata": {},
   "source": [
    "#### ------------------------------------------------------------------------ THANK YOU ---------------------------------------------------------------------------"
   ]
  }
 ],
 "metadata": {
  "kernelspec": {
   "display_name": "Python 3 (ipykernel)",
   "language": "python",
   "name": "python3"
  },
  "language_info": {
   "codemirror_mode": {
    "name": "ipython",
    "version": 3
   },
   "file_extension": ".py",
   "mimetype": "text/x-python",
   "name": "python",
   "nbconvert_exporter": "python",
   "pygments_lexer": "ipython3",
   "version": "3.9.13"
  }
 },
 "nbformat": 4,
 "nbformat_minor": 5
}
